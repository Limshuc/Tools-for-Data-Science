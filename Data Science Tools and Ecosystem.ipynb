{
 "cells": [
  {
   "cell_type": "markdown",
   "id": "69d0bbe7",
   "metadata": {},
   "source": [
    "# Data Science Tools and Ecosysyem"
   ]
  },
  {
   "cell_type": "markdown",
   "id": "941b5a41",
   "metadata": {},
   "source": [
    "In this notebook, Data Science Tools and Ecosystem are summarised"
   ]
  },
  {
   "cell_type": "markdown",
   "id": "1e045779",
   "metadata": {},
   "source": [
    "Some of the popular languages that Data Scientists use are:\n",
    "\n",
    "1. Python\n",
    "2. Java \n",
    "3. C++\n",
    "4. R\n",
    "5. SQL\n",
    "6. Java Script\n",
    "7. Julia\n",
    "8. Visual Basic"
   ]
  },
  {
   "cell_type": "markdown",
   "id": "2ee03a2c",
   "metadata": {},
   "source": [
    "Some of the commonly used libraries used by Data Scientists inlcude:\n",
    "\n",
    "1.NumPy\n",
    "2.SciPy\n",
    "3.Matplotlib\n",
    "4.Seaborn\n",
    "5.Scikit-learn\n",
    "6.Pandas"
   ]
  },
  {
   "cell_type": "markdown",
   "id": "2593d0fe",
   "metadata": {},
   "source": [
    "| Data Science Tools | \n",
    "|:---------|\n",
    "|  Anaconda   | \n",
    "|  Jupyter Notebooks   |\n",
    "|  R Studio   |  "
   ]
  },
  {
   "cell_type": "markdown",
   "id": "a1ced1ae",
   "metadata": {},
   "source": [
    "Below are a few examples of evaluating arithmetic expressions in Python"
   ]
  },
  {
   "cell_type": "markdown",
   "id": "d023ed34",
   "metadata": {},
   "source": [
    "#This is a simple arithmetic expression to the integers\n",
    "(3*4)+5"
   ]
  },
  {
   "cell_type": "code",
   "execution_count": 3,
   "id": "121b77f0",
   "metadata": {},
   "outputs": [
    {
     "data": {
      "text/plain": [
       "3.3333333333333335"
      ]
     },
     "execution_count": 3,
     "metadata": {},
     "output_type": "execute_result"
    }
   ],
   "source": [
    " 200/60\n",
    "\n",
    "\n"
   ]
  },
  {
   "cell_type": "markdown",
   "id": "6b1939e2",
   "metadata": {},
   "source": [
    "Add Comments to code cells\n",
    "Create Markdown Cells\n",
    "Add Ordered and unordered lists to markdown cells\n",
    "Format Content of markdown cells with heading styles"
   ]
  },
  {
   "cell_type": "markdown",
   "id": "3296e9fc",
   "metadata": {},
   "source": [
    "## Author(s)\n",
    "Matt"
   ]
  },
  {
   "cell_type": "code",
   "execution_count": null,
   "id": "bdc77865",
   "metadata": {},
   "outputs": [],
   "source": []
  }
 ],
 "metadata": {
  "kernelspec": {
   "display_name": "Python 3 (ipykernel)",
   "language": "python",
   "name": "python3"
  },
  "language_info": {
   "codemirror_mode": {
    "name": "ipython",
    "version": 3
   },
   "file_extension": ".py",
   "mimetype": "text/x-python",
   "name": "python",
   "nbconvert_exporter": "python",
   "pygments_lexer": "ipython3",
   "version": "3.9.7"
  }
 },
 "nbformat": 4,
 "nbformat_minor": 5
}
